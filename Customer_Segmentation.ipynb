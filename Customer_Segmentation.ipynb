{
 "cells": [
  {
   "cell_type": "markdown",
   "id": "b8cb1911",
   "metadata": {},
   "source": [
    "# Customer Segmentation for Online Retail"
   ]
  },
  {
   "cell_type": "markdown",
   "id": "b520ad7b",
   "metadata": {},
   "source": [
    "**The task is to analyze customer data from an online retail platform to segment customers based on their purchasing behavior, preferences, and demographics. The goal is to gain insights into distinct customer segments and tailor marketing strategies to target each segment effectively.**"
   ]
  },
  {
   "cell_type": "code",
   "execution_count": 1,
   "id": "410f368d",
   "metadata": {},
   "outputs": [],
   "source": [
    "#importing libraries\n",
    "import numpy as np\n",
    "import pandas as pd"
   ]
  },
  {
   "cell_type": "markdown",
   "id": "e7370cd9",
   "metadata": {},
   "source": [
    "# Loading Dataset"
   ]
  },
  {
   "cell_type": "code",
   "execution_count": 2,
   "id": "5eebff4a",
   "metadata": {},
   "outputs": [],
   "source": [
    "df=pd.read_excel('Online Retail.xlsx')"
   ]
  },
  {
   "cell_type": "code",
   "execution_count": 3,
   "id": "ba08ca9b",
   "metadata": {},
   "outputs": [
    {
     "data": {
      "text/html": [
       "<div>\n",
       "<style scoped>\n",
       "    .dataframe tbody tr th:only-of-type {\n",
       "        vertical-align: middle;\n",
       "    }\n",
       "\n",
       "    .dataframe tbody tr th {\n",
       "        vertical-align: top;\n",
       "    }\n",
       "\n",
       "    .dataframe thead th {\n",
       "        text-align: right;\n",
       "    }\n",
       "</style>\n",
       "<table border=\"1\" class=\"dataframe\">\n",
       "  <thead>\n",
       "    <tr style=\"text-align: right;\">\n",
       "      <th></th>\n",
       "      <th>InvoiceNo</th>\n",
       "      <th>StockCode</th>\n",
       "      <th>Description</th>\n",
       "      <th>Quantity</th>\n",
       "      <th>InvoiceDate</th>\n",
       "      <th>UnitPrice</th>\n",
       "      <th>CustomerID</th>\n",
       "      <th>Country</th>\n",
       "    </tr>\n",
       "  </thead>\n",
       "  <tbody>\n",
       "    <tr>\n",
       "      <th>0</th>\n",
       "      <td>536365</td>\n",
       "      <td>85123A</td>\n",
       "      <td>WHITE HANGING HEART T-LIGHT HOLDER</td>\n",
       "      <td>6</td>\n",
       "      <td>2010-12-01 08:26:00</td>\n",
       "      <td>2.55</td>\n",
       "      <td>17850.0</td>\n",
       "      <td>United Kingdom</td>\n",
       "    </tr>\n",
       "    <tr>\n",
       "      <th>1</th>\n",
       "      <td>536365</td>\n",
       "      <td>71053</td>\n",
       "      <td>WHITE METAL LANTERN</td>\n",
       "      <td>6</td>\n",
       "      <td>2010-12-01 08:26:00</td>\n",
       "      <td>3.39</td>\n",
       "      <td>17850.0</td>\n",
       "      <td>United Kingdom</td>\n",
       "    </tr>\n",
       "    <tr>\n",
       "      <th>2</th>\n",
       "      <td>536365</td>\n",
       "      <td>84406B</td>\n",
       "      <td>CREAM CUPID HEARTS COAT HANGER</td>\n",
       "      <td>8</td>\n",
       "      <td>2010-12-01 08:26:00</td>\n",
       "      <td>2.75</td>\n",
       "      <td>17850.0</td>\n",
       "      <td>United Kingdom</td>\n",
       "    </tr>\n",
       "    <tr>\n",
       "      <th>3</th>\n",
       "      <td>536365</td>\n",
       "      <td>84029G</td>\n",
       "      <td>KNITTED UNION FLAG HOT WATER BOTTLE</td>\n",
       "      <td>6</td>\n",
       "      <td>2010-12-01 08:26:00</td>\n",
       "      <td>3.39</td>\n",
       "      <td>17850.0</td>\n",
       "      <td>United Kingdom</td>\n",
       "    </tr>\n",
       "    <tr>\n",
       "      <th>4</th>\n",
       "      <td>536365</td>\n",
       "      <td>84029E</td>\n",
       "      <td>RED WOOLLY HOTTIE WHITE HEART.</td>\n",
       "      <td>6</td>\n",
       "      <td>2010-12-01 08:26:00</td>\n",
       "      <td>3.39</td>\n",
       "      <td>17850.0</td>\n",
       "      <td>United Kingdom</td>\n",
       "    </tr>\n",
       "  </tbody>\n",
       "</table>\n",
       "</div>"
      ],
      "text/plain": [
       "  InvoiceNo StockCode                          Description  Quantity  \\\n",
       "0    536365    85123A   WHITE HANGING HEART T-LIGHT HOLDER         6   \n",
       "1    536365     71053                  WHITE METAL LANTERN         6   \n",
       "2    536365    84406B       CREAM CUPID HEARTS COAT HANGER         8   \n",
       "3    536365    84029G  KNITTED UNION FLAG HOT WATER BOTTLE         6   \n",
       "4    536365    84029E       RED WOOLLY HOTTIE WHITE HEART.         6   \n",
       "\n",
       "          InvoiceDate  UnitPrice  CustomerID         Country  \n",
       "0 2010-12-01 08:26:00       2.55     17850.0  United Kingdom  \n",
       "1 2010-12-01 08:26:00       3.39     17850.0  United Kingdom  \n",
       "2 2010-12-01 08:26:00       2.75     17850.0  United Kingdom  \n",
       "3 2010-12-01 08:26:00       3.39     17850.0  United Kingdom  \n",
       "4 2010-12-01 08:26:00       3.39     17850.0  United Kingdom  "
      ]
     },
     "execution_count": 3,
     "metadata": {},
     "output_type": "execute_result"
    }
   ],
   "source": [
    "df.head()"
   ]
  },
  {
   "cell_type": "markdown",
   "id": "72b58f79",
   "metadata": {},
   "source": [
    "# Analyzing the Data"
   ]
  },
  {
   "cell_type": "markdown",
   "id": "6c113043",
   "metadata": {},
   "source": [
    "**# customer segmentation is performed on available data (remove the data where the transactions were cancelled or returned)**"
   ]
  },
  {
   "cell_type": "code",
   "execution_count": 4,
   "id": "82644104",
   "metadata": {},
   "outputs": [
    {
     "data": {
      "text/plain": [
       "(541909, 8)"
      ]
     },
     "execution_count": 4,
     "metadata": {},
     "output_type": "execute_result"
    }
   ],
   "source": [
    "df.shape"
   ]
  },
  {
   "cell_type": "code",
   "execution_count": 5,
   "id": "babb413c",
   "metadata": {},
   "outputs": [
    {
     "name": "stdout",
     "output_type": "stream",
     "text": [
      "<class 'pandas.core.frame.DataFrame'>\n",
      "RangeIndex: 541909 entries, 0 to 541908\n",
      "Data columns (total 8 columns):\n",
      " #   Column       Non-Null Count   Dtype         \n",
      "---  ------       --------------   -----         \n",
      " 0   InvoiceNo    541909 non-null  object        \n",
      " 1   StockCode    541909 non-null  object        \n",
      " 2   Description  540455 non-null  object        \n",
      " 3   Quantity     541909 non-null  int64         \n",
      " 4   InvoiceDate  541909 non-null  datetime64[ns]\n",
      " 5   UnitPrice    541909 non-null  float64       \n",
      " 6   CustomerID   406829 non-null  float64       \n",
      " 7   Country      541909 non-null  object        \n",
      "dtypes: datetime64[ns](1), float64(2), int64(1), object(4)\n",
      "memory usage: 33.1+ MB\n"
     ]
    }
   ],
   "source": [
    "df.info()"
   ]
  },
  {
   "cell_type": "code",
   "execution_count": 6,
   "id": "5b1cc9f8",
   "metadata": {},
   "outputs": [
    {
     "data": {
      "text/plain": [
       "InvoiceNo           0\n",
       "StockCode           0\n",
       "Description      1454\n",
       "Quantity            0\n",
       "InvoiceDate         0\n",
       "UnitPrice           0\n",
       "CustomerID     135080\n",
       "Country             0\n",
       "dtype: int64"
      ]
     },
     "execution_count": 6,
     "metadata": {},
     "output_type": "execute_result"
    }
   ],
   "source": [
    "df.isnull().sum()"
   ]
  },
  {
   "cell_type": "code",
   "execution_count": 7,
   "id": "e66398de",
   "metadata": {},
   "outputs": [],
   "source": [
    "# drop rows with any missing values\n",
    "df.dropna(inplace=True)"
   ]
  },
  {
   "cell_type": "code",
   "execution_count": 8,
   "id": "6d0d4e56",
   "metadata": {},
   "outputs": [
    {
     "name": "stdout",
     "output_type": "stream",
     "text": [
      "<class 'pandas.core.frame.DataFrame'>\n",
      "Int64Index: 406829 entries, 0 to 541908\n",
      "Data columns (total 8 columns):\n",
      " #   Column       Non-Null Count   Dtype         \n",
      "---  ------       --------------   -----         \n",
      " 0   InvoiceNo    406829 non-null  object        \n",
      " 1   StockCode    406829 non-null  object        \n",
      " 2   Description  406829 non-null  object        \n",
      " 3   Quantity     406829 non-null  int64         \n",
      " 4   InvoiceDate  406829 non-null  datetime64[ns]\n",
      " 5   UnitPrice    406829 non-null  float64       \n",
      " 6   CustomerID   406829 non-null  float64       \n",
      " 7   Country      406829 non-null  object        \n",
      "dtypes: datetime64[ns](1), float64(2), int64(1), object(4)\n",
      "memory usage: 27.9+ MB\n"
     ]
    }
   ],
   "source": [
    "# recheck\n",
    "df.info()"
   ]
  },
  {
   "cell_type": "markdown",
   "id": "5a69f7b4",
   "metadata": {},
   "source": [
    "**Now the dataset seems all good. Since we are looing into customer segmentation, we will transform the current sales data to customer level. Here we will use the RFM marketing analysis, to look at customer's behaviours based on:**"
   ]
  },
  {
   "cell_type": "markdown",
   "id": "fc5abf38",
   "metadata": {},
   "source": [
    "**1.Recency - How many days had passed since customer last purchased.**"
   ]
  },
  {
   "cell_type": "markdown",
   "id": "dc6be5b5",
   "metadata": {},
   "source": [
    "**2.Frequency - How many times a customer had shopped here.**"
   ]
  },
  {
   "cell_type": "markdown",
   "id": "0760fcf0",
   "metadata": {},
   "source": [
    "**3.Monetary Value - How much money had the customer spent.**"
   ]
  },
  {
   "cell_type": "code",
   "execution_count": 9,
   "id": "2af4bb9f",
   "metadata": {},
   "outputs": [
    {
     "name": "stdout",
     "output_type": "stream",
     "text": [
      "<class 'pandas.core.frame.DataFrame'>\n",
      "Float64Index: 4372 entries, 12346.0 to 18287.0\n",
      "Data columns (total 3 columns):\n",
      " #   Column     Non-Null Count  Dtype  \n",
      "---  ------     --------------  -----  \n",
      " 0   recency    4372 non-null   int64  \n",
      " 1   frequency  4372 non-null   int64  \n",
      " 2   monetary   4372 non-null   float64\n",
      "dtypes: float64(1), int64(2)\n",
      "memory usage: 136.6 KB\n"
     ]
    }
   ],
   "source": [
    "# RFM feature engineering\n",
    "# get the total price of each order\n",
    "df['TotalPrice'] = df['Quantity'] * df['UnitPrice']\n",
    "\n",
    "# create customer df and features\n",
    "customer_df = df.groupby('CustomerID').agg({'InvoiceDate': lambda x: (df['InvoiceDate'].max() - x.max()).days,\n",
    "                                            'InvoiceNo': 'count',\n",
    "                                            'TotalPrice': 'sum'})\n",
    "\n",
    "# rename the features\n",
    "customer_df.rename(columns={'InvoiceDate': 'recency',\n",
    "                            'InvoiceNo': 'frequency',\n",
    "                            'TotalPrice': 'monetary'}, inplace=True)\n",
    "\n",
    "customer_df.info()"
   ]
  },
  {
   "cell_type": "code",
   "execution_count": 10,
   "id": "b1401374",
   "metadata": {},
   "outputs": [
    {
     "data": {
      "text/html": [
       "<div>\n",
       "<style scoped>\n",
       "    .dataframe tbody tr th:only-of-type {\n",
       "        vertical-align: middle;\n",
       "    }\n",
       "\n",
       "    .dataframe tbody tr th {\n",
       "        vertical-align: top;\n",
       "    }\n",
       "\n",
       "    .dataframe thead th {\n",
       "        text-align: right;\n",
       "    }\n",
       "</style>\n",
       "<table border=\"1\" class=\"dataframe\">\n",
       "  <thead>\n",
       "    <tr style=\"text-align: right;\">\n",
       "      <th></th>\n",
       "      <th>recency</th>\n",
       "      <th>frequency</th>\n",
       "      <th>monetary</th>\n",
       "    </tr>\n",
       "    <tr>\n",
       "      <th>CustomerID</th>\n",
       "      <th></th>\n",
       "      <th></th>\n",
       "      <th></th>\n",
       "    </tr>\n",
       "  </thead>\n",
       "  <tbody>\n",
       "    <tr>\n",
       "      <th>17736.0</th>\n",
       "      <td>8</td>\n",
       "      <td>26</td>\n",
       "      <td>337.49</td>\n",
       "    </tr>\n",
       "    <tr>\n",
       "      <th>13107.0</th>\n",
       "      <td>43</td>\n",
       "      <td>60</td>\n",
       "      <td>1524.07</td>\n",
       "    </tr>\n",
       "    <tr>\n",
       "      <th>18287.0</th>\n",
       "      <td>42</td>\n",
       "      <td>70</td>\n",
       "      <td>1837.28</td>\n",
       "    </tr>\n",
       "    <tr>\n",
       "      <th>14950.0</th>\n",
       "      <td>8</td>\n",
       "      <td>20</td>\n",
       "      <td>361.25</td>\n",
       "    </tr>\n",
       "    <tr>\n",
       "      <th>15862.0</th>\n",
       "      <td>7</td>\n",
       "      <td>147</td>\n",
       "      <td>832.88</td>\n",
       "    </tr>\n",
       "    <tr>\n",
       "      <th>17519.0</th>\n",
       "      <td>16</td>\n",
       "      <td>83</td>\n",
       "      <td>1839.07</td>\n",
       "    </tr>\n",
       "    <tr>\n",
       "      <th>15021.0</th>\n",
       "      <td>8</td>\n",
       "      <td>479</td>\n",
       "      <td>1872.28</td>\n",
       "    </tr>\n",
       "    <tr>\n",
       "      <th>15713.0</th>\n",
       "      <td>142</td>\n",
       "      <td>20</td>\n",
       "      <td>346.75</td>\n",
       "    </tr>\n",
       "    <tr>\n",
       "      <th>14216.0</th>\n",
       "      <td>2</td>\n",
       "      <td>59</td>\n",
       "      <td>1839.30</td>\n",
       "    </tr>\n",
       "    <tr>\n",
       "      <th>15119.0</th>\n",
       "      <td>245</td>\n",
       "      <td>14</td>\n",
       "      <td>266.40</td>\n",
       "    </tr>\n",
       "  </tbody>\n",
       "</table>\n",
       "</div>"
      ],
      "text/plain": [
       "            recency  frequency  monetary\n",
       "CustomerID                              \n",
       "17736.0           8         26    337.49\n",
       "13107.0          43         60   1524.07\n",
       "18287.0          42         70   1837.28\n",
       "14950.0           8         20    361.25\n",
       "15862.0           7        147    832.88\n",
       "17519.0          16         83   1839.07\n",
       "15021.0           8        479   1872.28\n",
       "15713.0         142         20    346.75\n",
       "14216.0           2         59   1839.30\n",
       "15119.0         245         14    266.40"
      ]
     },
     "execution_count": 10,
     "metadata": {},
     "output_type": "execute_result"
    }
   ],
   "source": [
    "customer_df.sample(10)"
   ]
  },
  {
   "cell_type": "markdown",
   "id": "fd52cf1e",
   "metadata": {},
   "source": [
    "**Now we have a customer df that includes features that will help us understand each customers purchase behavior.**"
   ]
  },
  {
   "cell_type": "code",
   "execution_count": 11,
   "id": "88aa9675",
   "metadata": {},
   "outputs": [
    {
     "data": {
      "text/html": [
       "<div>\n",
       "<style scoped>\n",
       "    .dataframe tbody tr th:only-of-type {\n",
       "        vertical-align: middle;\n",
       "    }\n",
       "\n",
       "    .dataframe tbody tr th {\n",
       "        vertical-align: top;\n",
       "    }\n",
       "\n",
       "    .dataframe thead th {\n",
       "        text-align: right;\n",
       "    }\n",
       "</style>\n",
       "<table border=\"1\" class=\"dataframe\">\n",
       "  <thead>\n",
       "    <tr style=\"text-align: right;\">\n",
       "      <th></th>\n",
       "      <th>recency</th>\n",
       "      <th>frequency</th>\n",
       "      <th>monetary</th>\n",
       "    </tr>\n",
       "  </thead>\n",
       "  <tbody>\n",
       "    <tr>\n",
       "      <th>count</th>\n",
       "      <td>4372.000000</td>\n",
       "      <td>4372.000000</td>\n",
       "      <td>4372.000000</td>\n",
       "    </tr>\n",
       "    <tr>\n",
       "      <th>mean</th>\n",
       "      <td>91.047118</td>\n",
       "      <td>93.053294</td>\n",
       "      <td>1898.459701</td>\n",
       "    </tr>\n",
       "    <tr>\n",
       "      <th>std</th>\n",
       "      <td>100.765435</td>\n",
       "      <td>232.471608</td>\n",
       "      <td>8219.345141</td>\n",
       "    </tr>\n",
       "    <tr>\n",
       "      <th>min</th>\n",
       "      <td>0.000000</td>\n",
       "      <td>1.000000</td>\n",
       "      <td>-4287.630000</td>\n",
       "    </tr>\n",
       "    <tr>\n",
       "      <th>25%</th>\n",
       "      <td>16.000000</td>\n",
       "      <td>17.000000</td>\n",
       "      <td>293.362500</td>\n",
       "    </tr>\n",
       "    <tr>\n",
       "      <th>50%</th>\n",
       "      <td>49.000000</td>\n",
       "      <td>42.000000</td>\n",
       "      <td>648.075000</td>\n",
       "    </tr>\n",
       "    <tr>\n",
       "      <th>75%</th>\n",
       "      <td>142.000000</td>\n",
       "      <td>102.000000</td>\n",
       "      <td>1611.725000</td>\n",
       "    </tr>\n",
       "    <tr>\n",
       "      <th>max</th>\n",
       "      <td>373.000000</td>\n",
       "      <td>7983.000000</td>\n",
       "      <td>279489.020000</td>\n",
       "    </tr>\n",
       "  </tbody>\n",
       "</table>\n",
       "</div>"
      ],
      "text/plain": [
       "           recency    frequency       monetary\n",
       "count  4372.000000  4372.000000    4372.000000\n",
       "mean     91.047118    93.053294    1898.459701\n",
       "std     100.765435   232.471608    8219.345141\n",
       "min       0.000000     1.000000   -4287.630000\n",
       "25%      16.000000    17.000000     293.362500\n",
       "50%      49.000000    42.000000     648.075000\n",
       "75%     142.000000   102.000000    1611.725000\n",
       "max     373.000000  7983.000000  279489.020000"
      ]
     },
     "execution_count": 11,
     "metadata": {},
     "output_type": "execute_result"
    }
   ],
   "source": [
    "customer_df.describe()"
   ]
  },
  {
   "cell_type": "code",
   "execution_count": 12,
   "id": "471d8fa4",
   "metadata": {},
   "outputs": [],
   "source": [
    "import matplotlib.pyplot as plt\n",
    "import seaborn as sns\n",
    "from sklearn.preprocessing import MinMaxScaler\n",
    "from sklearn.cluster import KMeans"
   ]
  },
  {
   "cell_type": "code",
   "execution_count": 13,
   "id": "28a075c0",
   "metadata": {},
   "outputs": [
    {
     "name": "stderr",
     "output_type": "stream",
     "text": [
      "C:\\Users\\NEWHP\\AppData\\Local\\Programs\\Python\\Python310\\lib\\site-packages\\seaborn\\axisgrid.py:118: UserWarning: The figure layout has changed to tight\n",
      "  self._figure.tight_layout(*args, **kwargs)\n"
     ]
    },
    {
     "data": {
      "text/plain": [
       "<seaborn.axisgrid.PairGrid at 0x1d97c3c8640>"
      ]
     },
     "execution_count": 13,
     "metadata": {},
     "output_type": "execute_result"
    },
    {
     "data": {
      "image/png": "[encoded data removed]",
      "text/plain": [
       "<Figure size 750x750 with 12 Axes>"
      ]
     },
     "metadata": {},
     "output_type": "display_data"
    }
   ],
   "source": [
    "sns.pairplot(customer_df)"
   ]
  },
  {
   "cell_type": "markdown",
   "id": "1f28e0b1",
   "metadata": {},
   "source": [
    "# Preprocessing\n",
    "**Since Kmeans clustering is very sensitive to scale of the variables, and the above description and pairplot suggests the data is not normally disributed and there exist obvious difference in scale and variace between each features, we will have to normalize the data.**"
   ]
  },
  {
   "cell_type": "code",
   "execution_count": 14,
   "id": "3aa2d727",
   "metadata": {},
   "outputs": [
    {
     "name": "stdout",
     "output_type": "stream",
     "text": [
      "[[8.71313673e-01 1.25281884e-04 1.51091712e-02]\n",
      " [2.68096515e-03 2.26760210e-02 3.02971721e-02]\n",
      " [1.98391421e-01 3.75845653e-03 2.14424619e-02]\n",
      " ...\n",
      " [1.87667560e-02 1.50338261e-03 1.57314917e-02]\n",
      " [8.04289544e-03 9.45878226e-02 2.24913149e-02]\n",
      " [1.12600536e-01 8.64445001e-03 2.15835588e-02]]\n"
     ]
    }
   ],
   "source": [
    "# We choose to use minmaxscaler because we are mostly looking to normalize the data and not looking for a mean equal to zero.\n",
    "scaler = MinMaxScaler()\n",
    "\n",
    "norm_customer = scaler.fit_transform(customer_df)\n",
    "\n",
    "print(norm_customer)"
   ]
  },
  {
   "cell_type": "markdown",
   "id": "4895d556",
   "metadata": {},
   "source": [
    "# Kmeans clustering"
   ]
  },
  {
   "cell_type": "code",
   "execution_count": 15,
   "id": "c9182964",
   "metadata": {},
   "outputs": [],
   "source": [
    "# fit model with different num of clsuters\n",
    "sse = []\n",
    "for k in range(1, 11):\n",
    "    kmeans = KMeans(n_clusters=k, n_init=10, random_state=33)\n",
    "    kmeans.fit(norm_customer)\n",
    "    sse.append(kmeans.inertia_) # sse of the centroid of cluster"
   ]
  },
  {
   "cell_type": "markdown",
   "id": "4b78cb7e",
   "metadata": {},
   "source": [
    "**To select the most suitable hyperparameter, we use sum of squared error to measure the variations within each cluser.**"
   ]
  },
  {
   "cell_type": "code",
   "execution_count": 16,
   "id": "0cf7ff96",
   "metadata": {},
   "outputs": [
    {
     "data": {
      "text/plain": [
       "Text(0, 0.5, 'sse')"
      ]
     },
     "execution_count": 16,
     "metadata": {},
     "output_type": "execute_result"
    },
    {
     "data": {
      "image/png": "[encoded data removed]",
      "text/plain": [
       "<Figure size 640x480 with 1 Axes>"
      ]
     },
     "metadata": {},
     "output_type": "display_data"
    }
   ],
   "source": [
    "# create sse elbow plot \n",
    "plt.plot(range(1, 11), sse, marker='o')\n",
    "plt.title('Elbow plot')\n",
    "plt.xlabel('n_clusters')\n",
    "plt.ylabel('sse')"
   ]
  },
  {
   "cell_type": "markdown",
   "id": "b891066a",
   "metadata": {},
   "source": [
    "**There is a rapid increase of performance when n_cluster went from 1 to 2, yet after 3 clsuters, the performance maitained roughly at the same level. We can choose between 2 and 3 clusters and here we keep the n_clsuter at 3.**"
   ]
  },
  {
   "cell_type": "code",
   "execution_count": 17,
   "id": "8ebde303",
   "metadata": {},
   "outputs": [
    {
     "data": {
      "text/html": [
       "<style>#sk-container-id-1 {color: black;background-color: white;}#sk-container-id-1 pre{padding: 0;}#sk-container-id-1 div.sk-toggleable {background-color: white;}#sk-container-id-1 label.sk-toggleable__label {cursor: pointer;display: block;width: 100%;margin-bottom: 0;padding: 0.3em;box-sizing: border-box;text-align: center;}#sk-container-id-1 label.sk-toggleable__label-arrow:before {content: \"▸\";float: left;margin-right: 0.25em;color: #696969;}#sk-container-id-1 label.sk-toggleable__label-arrow:hover:before {color: black;}#sk-container-id-1 div.sk-estimator:hover label.sk-toggleable__label-arrow:before {color: black;}#sk-container-id-1 div.sk-toggleable__content {max-height: 0;max-width: 0;overflow: hidden;text-align: left;background-color: #f0f8ff;}#sk-container-id-1 div.sk-toggleable__content pre {margin: 0.2em;color: black;border-radius: 0.25em;background-color: #f0f8ff;}#sk-container-id-1 input.sk-toggleable__control:checked~div.sk-toggleable__content {max-height: 200px;max-width: 100%;overflow: auto;}#sk-container-id-1 input.sk-toggleable__control:checked~label.sk-toggleable__label-arrow:before {content: \"▾\";}#sk-container-id-1 div.sk-estimator input.sk-toggleable__control:checked~label.sk-toggleable__label {background-color: #d4ebff;}#sk-container-id-1 div.sk-label input.sk-toggleable__control:checked~label.sk-toggleable__label {background-color: #d4ebff;}#sk-container-id-1 input.sk-hidden--visually {border: 0;clip: rect(1px 1px 1px 1px);clip: rect(1px, 1px, 1px, 1px);height: 1px;margin: -1px;overflow: hidden;padding: 0;position: absolute;width: 1px;}#sk-container-id-1 div.sk-estimator {font-family: monospace;background-color: #f0f8ff;border: 1px dotted black;border-radius: 0.25em;box-sizing: border-box;margin-bottom: 0.5em;}#sk-container-id-1 div.sk-estimator:hover {background-color: #d4ebff;}#sk-container-id-1 div.sk-parallel-item::after {content: \"\";width: 100%;border-bottom: 1px solid gray;flex-grow: 1;}#sk-container-id-1 div.sk-label:hover label.sk-toggleable__label {background-color: #d4ebff;}#sk-container-id-1 div.sk-serial::before {content: \"\";position: absolute;border-left: 1px solid gray;box-sizing: border-box;top: 0;bottom: 0;left: 50%;z-index: 0;}#sk-container-id-1 div.sk-serial {display: flex;flex-direction: column;align-items: center;background-color: white;padding-right: 0.2em;padding-left: 0.2em;position: relative;}#sk-container-id-1 div.sk-item {position: relative;z-index: 1;}#sk-container-id-1 div.sk-parallel {display: flex;align-items: stretch;justify-content: center;background-color: white;position: relative;}#sk-container-id-1 div.sk-item::before, #sk-container-id-1 div.sk-parallel-item::before {content: \"\";position: absolute;border-left: 1px solid gray;box-sizing: border-box;top: 0;bottom: 0;left: 50%;z-index: -1;}#sk-container-id-1 div.sk-parallel-item {display: flex;flex-direction: column;z-index: 1;position: relative;background-color: white;}#sk-container-id-1 div.sk-parallel-item:first-child::after {align-self: flex-end;width: 50%;}#sk-container-id-1 div.sk-parallel-item:last-child::after {align-self: flex-start;width: 50%;}#sk-container-id-1 div.sk-parallel-item:only-child::after {width: 0;}#sk-container-id-1 div.sk-dashed-wrapped {border: 1px dashed gray;margin: 0 0.4em 0.5em 0.4em;box-sizing: border-box;padding-bottom: 0.4em;background-color: white;}#sk-container-id-1 div.sk-label label {font-family: monospace;font-weight: bold;display: inline-block;line-height: 1.2em;}#sk-container-id-1 div.sk-label-container {text-align: center;}#sk-container-id-1 div.sk-container {/* jupyter's `normalize.less` sets `[hidden] { display: none; }` but bootstrap.min.css set `[hidden] { display: none !important; }` so we also need the `!important` here to be able to override the default hidden behavior on the sphinx rendered scikit-learn.org. See: https://github.com/scikit-learn/scikit-learn/issues/21755 */display: inline-block !important;position: relative;}#sk-container-id-1 div.sk-text-repr-fallback {display: none;}</style><div id=\"sk-container-id-1\" class=\"sk-top-container\"><div class=\"sk-text-repr-fallback\"><pre>KMeans(n_clusters=3, n_init=10, random_state=33)</pre><b>In a Jupyter environment, please rerun this cell to show the HTML representation or trust the notebook. <br />On GitHub, the HTML representation is unable to render, please try loading this page with nbviewer.org.</b></div><div class=\"sk-container\" hidden><div class=\"sk-item\"><div class=\"sk-estimator sk-toggleable\"><input class=\"sk-toggleable__control sk-hidden--visually\" id=\"sk-estimator-id-1\" type=\"checkbox\" checked><label for=\"sk-estimator-id-1\" class=\"sk-toggleable__label sk-toggleable__label-arrow\">KMeans</label><div class=\"sk-toggleable__content\"><pre>KMeans(n_clusters=3, n_init=10, random_state=33)</pre></div></div></div></div></div>"
      ],
      "text/plain": [
       "KMeans(n_clusters=3, n_init=10, random_state=33)"
      ]
     },
     "execution_count": 17,
     "metadata": {},
     "output_type": "execute_result"
    }
   ],
   "source": [
    "# create the final kmeans model\n",
    "fin_kmeans = KMeans(n_clusters=3, n_init=10, random_state=33)\n",
    "\n",
    "fin_kmeans.fit(norm_customer)"
   ]
  },
  {
   "cell_type": "code",
   "execution_count": 18,
   "id": "dd6df3dc",
   "metadata": {},
   "outputs": [
    {
     "data": {
      "text/html": [
       "<div>\n",
       "<style scoped>\n",
       "    .dataframe tbody tr th:only-of-type {\n",
       "        vertical-align: middle;\n",
       "    }\n",
       "\n",
       "    .dataframe tbody tr th {\n",
       "        vertical-align: top;\n",
       "    }\n",
       "\n",
       "    .dataframe thead th {\n",
       "        text-align: right;\n",
       "    }\n",
       "</style>\n",
       "<table border=\"1\" class=\"dataframe\">\n",
       "  <thead>\n",
       "    <tr style=\"text-align: right;\">\n",
       "      <th></th>\n",
       "      <th>recency</th>\n",
       "      <th>frequency</th>\n",
       "      <th>monetary</th>\n",
       "      <th>cluster</th>\n",
       "    </tr>\n",
       "    <tr>\n",
       "      <th>CustomerID</th>\n",
       "      <th></th>\n",
       "      <th></th>\n",
       "      <th></th>\n",
       "      <th></th>\n",
       "    </tr>\n",
       "  </thead>\n",
       "  <tbody>\n",
       "    <tr>\n",
       "      <th>12346.0</th>\n",
       "      <td>0.871314</td>\n",
       "      <td>0.000125</td>\n",
       "      <td>0.015109</td>\n",
       "      <td>1</td>\n",
       "    </tr>\n",
       "    <tr>\n",
       "      <th>12347.0</th>\n",
       "      <td>0.002681</td>\n",
       "      <td>0.022676</td>\n",
       "      <td>0.030297</td>\n",
       "      <td>2</td>\n",
       "    </tr>\n",
       "    <tr>\n",
       "      <th>12348.0</th>\n",
       "      <td>0.198391</td>\n",
       "      <td>0.003758</td>\n",
       "      <td>0.021442</td>\n",
       "      <td>2</td>\n",
       "    </tr>\n",
       "    <tr>\n",
       "      <th>12349.0</th>\n",
       "      <td>0.048257</td>\n",
       "      <td>0.009020</td>\n",
       "      <td>0.021303</td>\n",
       "      <td>2</td>\n",
       "    </tr>\n",
       "    <tr>\n",
       "      <th>12350.0</th>\n",
       "      <td>0.828418</td>\n",
       "      <td>0.002005</td>\n",
       "      <td>0.016288</td>\n",
       "      <td>1</td>\n",
       "    </tr>\n",
       "    <tr>\n",
       "      <th>...</th>\n",
       "      <td>...</td>\n",
       "      <td>...</td>\n",
       "      <td>...</td>\n",
       "      <td>...</td>\n",
       "    </tr>\n",
       "    <tr>\n",
       "      <th>18280.0</th>\n",
       "      <td>0.742627</td>\n",
       "      <td>0.001128</td>\n",
       "      <td>0.015746</td>\n",
       "      <td>1</td>\n",
       "    </tr>\n",
       "    <tr>\n",
       "      <th>18281.0</th>\n",
       "      <td>0.482574</td>\n",
       "      <td>0.000752</td>\n",
       "      <td>0.015394</td>\n",
       "      <td>0</td>\n",
       "    </tr>\n",
       "    <tr>\n",
       "      <th>18282.0</th>\n",
       "      <td>0.018767</td>\n",
       "      <td>0.001503</td>\n",
       "      <td>0.015731</td>\n",
       "      <td>2</td>\n",
       "    </tr>\n",
       "    <tr>\n",
       "      <th>18283.0</th>\n",
       "      <td>0.008043</td>\n",
       "      <td>0.094588</td>\n",
       "      <td>0.022491</td>\n",
       "      <td>2</td>\n",
       "    </tr>\n",
       "    <tr>\n",
       "      <th>18287.0</th>\n",
       "      <td>0.112601</td>\n",
       "      <td>0.008644</td>\n",
       "      <td>0.021584</td>\n",
       "      <td>2</td>\n",
       "    </tr>\n",
       "  </tbody>\n",
       "</table>\n",
       "<p>4372 rows × 4 columns</p>\n",
       "</div>"
      ],
      "text/plain": [
       "             recency  frequency  monetary  cluster\n",
       "CustomerID                                        \n",
       "12346.0     0.871314   0.000125  0.015109        1\n",
       "12347.0     0.002681   0.022676  0.030297        2\n",
       "12348.0     0.198391   0.003758  0.021442        2\n",
       "12349.0     0.048257   0.009020  0.021303        2\n",
       "12350.0     0.828418   0.002005  0.016288        1\n",
       "...              ...        ...       ...      ...\n",
       "18280.0     0.742627   0.001128  0.015746        1\n",
       "18281.0     0.482574   0.000752  0.015394        0\n",
       "18282.0     0.018767   0.001503  0.015731        2\n",
       "18283.0     0.008043   0.094588  0.022491        2\n",
       "18287.0     0.112601   0.008644  0.021584        2\n",
       "\n",
       "[4372 rows x 4 columns]"
      ]
     },
     "execution_count": 18,
     "metadata": {},
     "output_type": "execute_result"
    }
   ],
   "source": [
    "fin_df = pd.DataFrame(norm_customer, columns=customer_df.columns, index=customer_df.index)\n",
    "\n",
    "fin_df['cluster'] = fin_kmeans.labels_\n",
    "fin_df"
   ]
  },
  {
   "cell_type": "markdown",
   "id": "a0b00101",
   "metadata": {},
   "source": [
    "# Characteristics evaluation\n",
    "**Now let's have a look at the characteristics of each cluster, and see what customer insight we can obtain and try to answer our questions.**"
   ]
  },
  {
   "cell_type": "code",
   "execution_count": 19,
   "id": "49aefd73",
   "metadata": {},
   "outputs": [
    {
     "data": {
      "image/png": "[encoded data removed]",
      "text/plain": [
       "<Figure size 400x600 with 3 Axes>"
      ]
     },
     "metadata": {},
     "output_type": "display_data"
    }
   ],
   "source": [
    "cluster_mean = fin_df.groupby('cluster')[['recency', 'frequency', 'monetary']].mean().reset_index()\n",
    "\n",
    "fig, axes = plt.subplots(nrows=3, figsize=(4, 6))\n",
    "\n",
    "sns.barplot(cluster_mean, x='cluster', y='recency', ax=axes[0])\n",
    "sns.barplot(cluster_mean, x='cluster', y='frequency', ax=axes[1])\n",
    "sns.barplot(cluster_mean, x='cluster', y='monetary', ax=axes[2])\n",
    "\n",
    "plt.tight_layout()"
   ]
  },
  {
   "cell_type": "code",
   "execution_count": 20,
   "id": "9db036f9",
   "metadata": {},
   "outputs": [
    {
     "data": {
      "text/plain": [
       "2    2922\n",
       "0     816\n",
       "1     634\n",
       "Name: cluster, dtype: int64"
      ]
     },
     "execution_count": 20,
     "metadata": {},
     "output_type": "execute_result"
    }
   ],
   "source": [
    "fin_df['cluster'].value_counts()"
   ]
  },
  {
   "cell_type": "markdown",
   "id": "8d3b9d83",
   "metadata": {},
   "source": [
    "**Cluster 0 has landed in the mid range for all three features, these might be our regular customer, that can be encouraged to be more engaged. And maybe there are things we can improve for them.**"
   ]
  },
  {
   "cell_type": "markdown",
   "id": "f640958c",
   "metadata": {},
   "source": [
    "**Cluster 1 customers shopped not very recently (note that large recency means more days since their last purchase) and have rather low frequency, yet have similar monetary value as cluster 0. These might be some old customers that have quite good purchace ability but became inactive for some reasons, it might be a good idea to figure out why they haven't shopped here for a while.**"
   ]
  },
  {
   "cell_type": "markdown",
   "id": "54d79c07",
   "metadata": {},
   "source": [
    "**Cluster 2 customers shopped recently, with high frequency and monetary, this means that these are the loyal customers that we want to keep.**"
   ]
  },
  {
   "cell_type": "markdown",
   "id": "440f271b",
   "metadata": {},
   "source": [
    "**Good news is the shop has mostly loyal customers (cluster 2) and some regulars (cluster 0), and about 600 old customers that maybe can be brought back.**"
   ]
  },
  {
   "cell_type": "code",
   "execution_count": null,
   "id": "67b7f6c4",
   "metadata": {},
   "outputs": [],
   "source": []
  }
 ],
 "metadata": {
  "kernelspec": {
   "display_name": "Python 3 (ipykernel)",
   "language": "python",
   "name": "python3"
  },
  "language_info": {
   "codemirror_mode": {
    "name": "ipython",
    "version": 3
   },
   "file_extension": ".py",
   "mimetype": "text/x-python",
   "name": "python",
   "nbconvert_exporter": "python",
   "pygments_lexer": "ipython3",
   "version": "3.10.5"
  }
 },
 "nbformat": 4,
 "nbformat_minor": 5
}
